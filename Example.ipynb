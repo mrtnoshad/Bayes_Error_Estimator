{
 "cells": [
  {
   "cell_type": "code",
   "execution_count": 2,
   "metadata": {},
   "outputs": [],
   "source": [
    "\n",
    "import numpy as np\n",
    "\n",
    "from BER_estimator_KDtree import ensemble_bg_estimator\n",
    "from sklearn import svm, datasets\n",
    "from sklearn import neighbors\n",
    "from sklearn.datasets import make_classification\n"
   ]
  },
  {
   "cell_type": "code",
   "execution_count": 2,
   "metadata": {},
   "outputs": [],
   "source": [
    "G=[50, 100, 200, 400, 800, 1600]\n",
    "T=30 # repeat experiments"
   ]
  },
  {
   "cell_type": "code",
   "execution_count": 4,
   "metadata": {},
   "outputs": [
    {
     "name": "stdout",
     "output_type": "stream",
     "text": [
      "0.15966829401181878\n"
     ]
    }
   ],
   "source": [
    "N = 1000\n",
    "dim = 20\n",
    "n_class = 4\n",
    "mean_shift = 1\n",
    "\n",
    "# Make a classification problem\n",
    "X, Y = make_classification(n_samples=N, n_features=dim, n_redundant=0, n_informative=dim,\n",
    "                           n_classes=n_class, class_sep=mean_shift,flip_y=0.001, n_clusters_per_class=1)\n",
    "\n",
    "# Estimate Bayes Error Rate\n",
    "A = ensemble_bg_estimator(X,Y, h_range = [0.9,1.2])\n",
    "\n",
    "# print the result\n",
    "print(A)\n"
   ]
  }
 ],
 "metadata": {
  "kernelspec": {
   "display_name": "Python 3",
   "language": "python",
   "name": "python3"
  },
  "language_info": {
   "codemirror_mode": {
    "name": "ipython",
    "version": 3
   },
   "file_extension": ".py",
   "mimetype": "text/x-python",
   "name": "python",
   "nbconvert_exporter": "python",
   "pygments_lexer": "ipython3",
   "version": "3.6.4"
  }
 },
 "nbformat": 4,
 "nbformat_minor": 2
}
